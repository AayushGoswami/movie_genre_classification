{
 "cells": [
  {
   "cell_type": "markdown",
   "id": "689db571",
   "metadata": {},
   "source": [
    "# Preprocessing Movie Genre Classification Data\n",
    "\n",
    "This notebook demonstrates the preprocessing steps for the movie genre classification dataset. We will load the data, parse it, handle missing values, tokenize descriptions, and save the preprocessed data for further analysis."
   ]
  },
  {
   "cell_type": "markdown",
   "id": "0f8e0cdf",
   "metadata": {},
   "source": [
    "## 1. Load Dataset\n",
    "\n",
    "Load the train and test datasets from the provided file paths."
   ]
  },
  {
   "cell_type": "code",
   "execution_count": 1,
   "id": "c351e200",
   "metadata": {},
   "outputs": [
    {
     "name": "stdout",
     "output_type": "stream",
     "text": [
      "Loaded 54214 train samples and 54200 test samples.\n"
     ]
    }
   ],
   "source": [
    "import pandas as pd\n",
    "import numpy as np\n",
    "\n",
    "# Load train and test data as raw text\n",
    "with open('data/train_data.txt', 'r', encoding='utf-8') as f:\n",
    "    train_lines = f.readlines()\n",
    "with open('data/test_data.txt', 'r', encoding='utf-8') as f:\n",
    "    test_lines = f.readlines()\n",
    "\n",
    "print(f\"Loaded {len(train_lines)} train samples and {len(test_lines)} test samples.\")"
   ]
  },
  {
   "cell_type": "markdown",
   "id": "677411bc",
   "metadata": {},
   "source": [
    "## 2. Parse Dataset\n",
    "\n",
    "Split the dataset into columns (ID, TITLE, GENRE, DESCRIPTION) for train data and (ID, TITLE, DESCRIPTION) for test data."
   ]
  },
  {
   "cell_type": "code",
   "execution_count": 2,
   "id": "d765894f",
   "metadata": {},
   "outputs": [
    {
     "name": "stdout",
     "output_type": "stream",
     "text": [
      "Train Data Sample:\n"
     ]
    },
    {
     "data": {
      "application/vnd.microsoft.datawrangler.viewer.v0+json": {
       "columns": [
        {
         "name": "index",
         "rawType": "int64",
         "type": "integer"
        },
        {
         "name": "ID",
         "rawType": "object",
         "type": "string"
        },
        {
         "name": "TITLE",
         "rawType": "object",
         "type": "string"
        },
        {
         "name": "GENRE",
         "rawType": "object",
         "type": "string"
        },
        {
         "name": "DESCRIPTION",
         "rawType": "object",
         "type": "string"
        }
       ],
       "ref": "8ad347c4-9565-4831-9983-219c2d243144",
       "rows": [
        [
         "0",
         "1",
         "Oscar et la dame rose (2009)",
         "drama",
         "Listening in to a conversation between his doctor and parents, 10-year-old Oscar learns what nobody has the courage to tell him. He only has a few weeks to live. Furious, he refuses to speak to anyone except straight-talking Rose, the lady in pink he meets on the hospital stairs. As Christmas approaches, Rose uses her fantastical experiences as a professional wrestler, her imagination, wit and charm to allow Oscar to live life and love to the full, in the company of his friends Pop Corn, Einstein, Bacon and childhood sweetheart Peggy Blue."
        ],
        [
         "1",
         "2",
         "Cupid (1997)",
         "thriller",
         "A brother and sister with a past incestuous relationship have a current murderous relationship. He murders the women who reject him and she murders the women who get too close to him."
        ],
        [
         "2",
         "3",
         "Young, Wild and Wonderful (1980)",
         "adult",
         "As the bus empties the students for their field trip to the Museum of Natural History, little does the tour guide suspect that the students are there for more than just another tour. First, during the lecture films, the coeds drift into dreams of the most erotic fantasies one can imagine. After the films, they release the emotion of the fantasies in the most erotic and uncommon ways. One slips off to the curator's office for a little \"acquisition. \" Another finds the anthropologist to see what bones can be identified. Even the head teacher isn't immune. Soon the tour is over, but as the bus departs, everyone admits it was quite an education."
        ],
        [
         "3",
         "4",
         "The Secret Sin (1915)",
         "drama",
         "To help their unemployed father make ends meet, Edith and her twin sister Grace work as seamstresses . An invalid, Grace falls prey to the temptations of Chinatown opium and becomes an addict, a condition worsened by a misguided physician who prescribes morphine to ease her pain. When their father strikes oil, the family enjoys a new prosperity and the sisters meet the eligible Jack Herron, a fellow oil prospector. To Grace's shock, Jack falls in love with Edith and in her jealousy, Grace tells Jack that Edith, not she, has a drug problem. Hinting that her sister will soon need more morphine, Grace arranges for a dinner in Chinatown with the couple. While her sister and Jack dance, Grace slips away to an opium den. Edith follows her, but ends up in the wrong den and is arrested in an ensuing drug raid. After he bails her out of jail, Edith takes an angry Jack to search for Grace and stumbles across her half-conscious body lying in the street. The truth about the sisters is revealed, and after sending Grace to a sanitarium in the country, Jack and Edith are married."
        ],
        [
         "4",
         "5",
         "The Unrecovered (2007)",
         "drama",
         "The film's title refers not only to the un-recovered bodies at ground zero, but also to the state of the nation at large. Set in the hallucinatory period of time between September 11 and Halloween of 2001, The Unrecovered examines the effect of terror on the average mind, the way a state of heightened anxiety and/or alertness can cause the average person to make the sort of imaginative connections that are normally made only by artists and conspiracy theorists-both of whom figure prominently in this film. The Unrecovered explores the way in which irony, empathy, and paranoia relate to one another in the wake of 9/11."
        ]
       ],
       "shape": {
        "columns": 4,
        "rows": 5
       }
      },
      "text/html": [
       "<div>\n",
       "<style scoped>\n",
       "    .dataframe tbody tr th:only-of-type {\n",
       "        vertical-align: middle;\n",
       "    }\n",
       "\n",
       "    .dataframe tbody tr th {\n",
       "        vertical-align: top;\n",
       "    }\n",
       "\n",
       "    .dataframe thead th {\n",
       "        text-align: right;\n",
       "    }\n",
       "</style>\n",
       "<table border=\"1\" class=\"dataframe\">\n",
       "  <thead>\n",
       "    <tr style=\"text-align: right;\">\n",
       "      <th></th>\n",
       "      <th>ID</th>\n",
       "      <th>TITLE</th>\n",
       "      <th>GENRE</th>\n",
       "      <th>DESCRIPTION</th>\n",
       "    </tr>\n",
       "  </thead>\n",
       "  <tbody>\n",
       "    <tr>\n",
       "      <th>0</th>\n",
       "      <td>1</td>\n",
       "      <td>Oscar et la dame rose (2009)</td>\n",
       "      <td>drama</td>\n",
       "      <td>Listening in to a conversation between his doc...</td>\n",
       "    </tr>\n",
       "    <tr>\n",
       "      <th>1</th>\n",
       "      <td>2</td>\n",
       "      <td>Cupid (1997)</td>\n",
       "      <td>thriller</td>\n",
       "      <td>A brother and sister with a past incestuous re...</td>\n",
       "    </tr>\n",
       "    <tr>\n",
       "      <th>2</th>\n",
       "      <td>3</td>\n",
       "      <td>Young, Wild and Wonderful (1980)</td>\n",
       "      <td>adult</td>\n",
       "      <td>As the bus empties the students for their fiel...</td>\n",
       "    </tr>\n",
       "    <tr>\n",
       "      <th>3</th>\n",
       "      <td>4</td>\n",
       "      <td>The Secret Sin (1915)</td>\n",
       "      <td>drama</td>\n",
       "      <td>To help their unemployed father make ends meet...</td>\n",
       "    </tr>\n",
       "    <tr>\n",
       "      <th>4</th>\n",
       "      <td>5</td>\n",
       "      <td>The Unrecovered (2007)</td>\n",
       "      <td>drama</td>\n",
       "      <td>The film's title refers not only to the un-rec...</td>\n",
       "    </tr>\n",
       "  </tbody>\n",
       "</table>\n",
       "</div>"
      ],
      "text/plain": [
       "  ID                             TITLE     GENRE  \\\n",
       "0  1      Oscar et la dame rose (2009)     drama   \n",
       "1  2                      Cupid (1997)  thriller   \n",
       "2  3  Young, Wild and Wonderful (1980)     adult   \n",
       "3  4             The Secret Sin (1915)     drama   \n",
       "4  5            The Unrecovered (2007)     drama   \n",
       "\n",
       "                                         DESCRIPTION  \n",
       "0  Listening in to a conversation between his doc...  \n",
       "1  A brother and sister with a past incestuous re...  \n",
       "2  As the bus empties the students for their fiel...  \n",
       "3  To help their unemployed father make ends meet...  \n",
       "4  The film's title refers not only to the un-rec...  "
      ]
     },
     "metadata": {},
     "output_type": "display_data"
    },
    {
     "name": "stdout",
     "output_type": "stream",
     "text": [
      "Test Data Sample:\n"
     ]
    },
    {
     "data": {
      "application/vnd.microsoft.datawrangler.viewer.v0+json": {
       "columns": [
        {
         "name": "index",
         "rawType": "int64",
         "type": "integer"
        },
        {
         "name": "ID",
         "rawType": "object",
         "type": "string"
        },
        {
         "name": "TITLE",
         "rawType": "object",
         "type": "string"
        },
        {
         "name": "DESCRIPTION",
         "rawType": "object",
         "type": "string"
        }
       ],
       "ref": "c2098160-8ab9-43c5-a262-d2b3e95d5df9",
       "rows": [
        [
         "0",
         "1",
         "Edgar's Lunch (1998)",
         "L.R. Brane loves his life - his car, his apartment, his job, but especially his girlfriend, Vespa. One day while showering, Vespa runs out of shampoo. L.R. runs across the street to a convenience store to buy some more, a quick trip of no more than a few minutes. When he returns, Vespa is gone and every trace of her existence has been wiped out. L.R.'s life becomes a tortured existence as one strange event after another occurs to confirm in his mind that a conspiracy is working against his finding Vespa."
        ],
        [
         "1",
         "2",
         "La guerra de papá (1977)",
         "Spain, March 1964: Quico is a very naughty child of three belonging to a wealthy middle-class family. Since Cristina's birth, he feels he has lost the privileged position of \"prince\" of the house for his eight months old sister. So, with his brother Juan, who is eight years old and is quite disobedient, spend their time committing prank after prank, causing the resulting anger of his mother, the nanny and the old housemaid. The rest of the family members are two much older brothers, his resigned mother and a retrograde father of authoritarian ideas. But many years have passed, and the civil war that won the despot Don Pablo is simply for their children \"Dad's war\"."
        ],
        [
         "2",
         "3",
         "Off the Beaten Track (2010)",
         "One year in the life of Albin and his family of shepherds in the North of Transylvania. In direct cinema style, this documentary follows their day to day routines, and their struggle to adapt to a new world where traditions are gradually replaced by modern values. Since joining the EU, Romania has been facing, like several other Eastern European countries, the pressure of modern values, introducing in farmer's lives the cruel notion of competition, the temptation of migrating to the higher salaries abroad, and the marginalization of locally produced food against industrial products."
        ],
        [
         "3",
         "4",
         "Meu Amigo Hindu (2015)",
         "His father has died, he hasn't spoken with his brother for about 10 years and has a serious cancer. Diego is a talented film director with difficulty to deal with his sickness, which is making him lose his friends and family. His best friend and doctor Ricardo gives him the news that he needs a bone marrow transplantation, otherwise he'll die. He gets married to a beautiful woman, Livia, just before going to Seattle to get treatment. There, he undergoes numerous medical procedures. During treatment, he meets an Hindu boy, with whom he plays and whom he tells amazing stories. Odds are against him and when stakes are the highest, Diego gets a visit from a very uncommon man."
        ],
        [
         "4",
         "5",
         "Er nu zhai (1955)",
         "Before he was known internationally as a martial arts superstar, Bruce Lee had appeared in a handful of Hong Kong films as a child star in the 1940s/50s. One of these early films was The More the Merrier (1955), a.k.a. We Owe it to Our Children from the Union Film Enterprise, a family melodrama written and directed by renowned filmmaker Chin Chien (My Intimate Partners). Featuring the 14-year-old Bruce Lee and future Cantonese Opera star Yuen Siu Fai, the B&W film revolves around accountant Ming (played by Cheung Wood Yau) and his wife (Tsi Lo Lin) who suffers a miscarriage in an car accident. The couple decides to adopt a baby girl, not knowing that she's the daughter given up by Ming's poor co-worker who struggles to feed a bunch of kids. Bruce Lee plays the slacker son of the landlord (Ko Lo Chuen)."
        ]
       ],
       "shape": {
        "columns": 3,
        "rows": 5
       }
      },
      "text/html": [
       "<div>\n",
       "<style scoped>\n",
       "    .dataframe tbody tr th:only-of-type {\n",
       "        vertical-align: middle;\n",
       "    }\n",
       "\n",
       "    .dataframe tbody tr th {\n",
       "        vertical-align: top;\n",
       "    }\n",
       "\n",
       "    .dataframe thead th {\n",
       "        text-align: right;\n",
       "    }\n",
       "</style>\n",
       "<table border=\"1\" class=\"dataframe\">\n",
       "  <thead>\n",
       "    <tr style=\"text-align: right;\">\n",
       "      <th></th>\n",
       "      <th>ID</th>\n",
       "      <th>TITLE</th>\n",
       "      <th>DESCRIPTION</th>\n",
       "    </tr>\n",
       "  </thead>\n",
       "  <tbody>\n",
       "    <tr>\n",
       "      <th>0</th>\n",
       "      <td>1</td>\n",
       "      <td>Edgar's Lunch (1998)</td>\n",
       "      <td>L.R. Brane loves his life - his car, his apart...</td>\n",
       "    </tr>\n",
       "    <tr>\n",
       "      <th>1</th>\n",
       "      <td>2</td>\n",
       "      <td>La guerra de papá (1977)</td>\n",
       "      <td>Spain, March 1964: Quico is a very naughty chi...</td>\n",
       "    </tr>\n",
       "    <tr>\n",
       "      <th>2</th>\n",
       "      <td>3</td>\n",
       "      <td>Off the Beaten Track (2010)</td>\n",
       "      <td>One year in the life of Albin and his family o...</td>\n",
       "    </tr>\n",
       "    <tr>\n",
       "      <th>3</th>\n",
       "      <td>4</td>\n",
       "      <td>Meu Amigo Hindu (2015)</td>\n",
       "      <td>His father has died, he hasn't spoken with his...</td>\n",
       "    </tr>\n",
       "    <tr>\n",
       "      <th>4</th>\n",
       "      <td>5</td>\n",
       "      <td>Er nu zhai (1955)</td>\n",
       "      <td>Before he was known internationally as a marti...</td>\n",
       "    </tr>\n",
       "  </tbody>\n",
       "</table>\n",
       "</div>"
      ],
      "text/plain": [
       "  ID                        TITLE  \\\n",
       "0  1         Edgar's Lunch (1998)   \n",
       "1  2     La guerra de papá (1977)   \n",
       "2  3  Off the Beaten Track (2010)   \n",
       "3  4       Meu Amigo Hindu (2015)   \n",
       "4  5            Er nu zhai (1955)   \n",
       "\n",
       "                                         DESCRIPTION  \n",
       "0  L.R. Brane loves his life - his car, his apart...  \n",
       "1  Spain, March 1964: Quico is a very naughty chi...  \n",
       "2  One year in the life of Albin and his family o...  \n",
       "3  His father has died, he hasn't spoken with his...  \n",
       "4  Before he was known internationally as a marti...  "
      ]
     },
     "metadata": {},
     "output_type": "display_data"
    }
   ],
   "source": [
    "# Parse train data\n",
    "train_records = [line.strip().split(' ::: ') for line in train_lines if line.strip()]\n",
    "train_df = pd.DataFrame(train_records, columns=[\"ID\", \"TITLE\", \"GENRE\", \"DESCRIPTION\"])\n",
    "\n",
    "# Parse test data\n",
    "test_records = [line.strip().split(' ::: ') for line in test_lines if line.strip()]\n",
    "test_df = pd.DataFrame(test_records, columns=[\"ID\", \"TITLE\", \"DESCRIPTION\"])\n",
    "\n",
    "# Show first few rows\n",
    "print(\"Train Data Sample:\")\n",
    "display(train_df.head())\n",
    "print(\"Test Data Sample:\")\n",
    "display(test_df.head())"
   ]
  },
  {
   "cell_type": "markdown",
   "id": "1739a386",
   "metadata": {},
   "source": [
    "## 3. Handle Missing Values\n",
    "\n",
    "Identify and handle missing values in the dataset, such as empty descriptions."
   ]
  },
  {
   "cell_type": "code",
   "execution_count": 3,
   "id": "8b1cb8b6",
   "metadata": {},
   "outputs": [
    {
     "name": "stdout",
     "output_type": "stream",
     "text": [
      "Missing values in Train Data:\n",
      "ID             0\n",
      "TITLE          0\n",
      "GENRE          0\n",
      "DESCRIPTION    0\n",
      "dtype: int64\n",
      "\n",
      "Missing values in Test Data:\n",
      "ID             0\n",
      "TITLE          0\n",
      "DESCRIPTION    0\n",
      "dtype: int64\n",
      "\n"
     ]
    }
   ],
   "source": [
    "# Check for missing values in train and test data\n",
    "def report_missing(df, name):\n",
    "    missing = df.isnull().sum()\n",
    "    print(f\"Missing values in {name}:\")\n",
    "    print(missing)\n",
    "    print()\n",
    "\n",
    "report_missing(train_df, \"Train Data\")\n",
    "report_missing(test_df, \"Test Data\")\n",
    "\n",
    "# Fill missing descriptions with an empty string\n",
    "# train_df[\"DESCRIPTION\"] = train_df[\"DESCRIPTION\"].fillna(\"\")\n",
    "# test_df[\"DESCRIPTION\"] = test_df[\"DESCRIPTION\"].fillna(\"\")"
   ]
  },
  {
   "cell_type": "markdown",
   "id": "ccc493c3",
   "metadata": {},
   "source": [
    "## 4. Tokenize Descriptions\n",
    "\n",
    "Use a tokenizer to split the movie descriptions into tokens for further processing."
   ]
  },
  {
   "cell_type": "code",
   "execution_count": null,
   "id": "c09514ff",
   "metadata": {},
   "outputs": [],
   "source": [
    "import re\n",
    "\n",
    "def simple_tokenizer(text):\n",
    "    # Lowercase and split on non-word characters\n",
    "    return re.findall(r'\\b\\w+\\b', text.lower())\n",
    "\n",
    "# Tokenize descriptions\n",
    "train_df['TOKENS'] = train_df['DESCRIPTION'].apply(simple_tokenizer)\n",
    "test_df['TOKENS'] = test_df['DESCRIPTION'].apply(simple_tokenizer)\n",
    "\n",
    "# Show tokenized samples\n",
    "print(\"Tokenized Train Data Sample:\")\n",
    "display(train_df[['DESCRIPTION', 'TOKENS']].head())"
   ]
  },
  {
   "cell_type": "markdown",
   "id": "dd6d0ad5",
   "metadata": {},
   "source": [
    "## 5. Save Preprocessed Data\n",
    "\n",
    "Save the cleaned and tokenized data into new files for later use."
   ]
  },
  {
   "cell_type": "code",
   "execution_count": 4,
   "id": "805c515f",
   "metadata": {},
   "outputs": [
    {
     "name": "stdout",
     "output_type": "stream",
     "text": [
      "Preprocessed data saved to data/train_data_preprocessed.csv and data/test_data_preprocessed.csv\n"
     ]
    }
   ],
   "source": [
    "# Save preprocessed data\n",
    "train_df.to_csv('data/train_data_preprocessed.csv', index=False)\n",
    "test_df.to_csv('data/test_data_preprocessed.csv', index=False)\n",
    "print(\"Preprocessed data saved to data/train_data_preprocessed.csv and data/test_data_preprocessed.csv\")"
   ]
  }
 ],
 "metadata": {
  "kernelspec": {
   "display_name": ".venv",
   "language": "python",
   "name": "python3"
  },
  "language_info": {
   "codemirror_mode": {
    "name": "ipython",
    "version": 3
   },
   "file_extension": ".py",
   "mimetype": "text/x-python",
   "name": "python",
   "nbconvert_exporter": "python",
   "pygments_lexer": "ipython3",
   "version": "3.12.1"
  }
 },
 "nbformat": 4,
 "nbformat_minor": 5
}
