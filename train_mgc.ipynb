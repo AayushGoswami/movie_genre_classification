{
 "cells": [
  {
   "cell_type": "markdown",
   "id": "d2178d4c",
   "metadata": {},
   "source": [
    "# Movie Genre Classification Model Training\n",
    "\n",
    "This notebook trains a movie genre classification model using movie titles and descriptions as input features. The model predicts the genre of a movie based on its name and description."
   ]
  },
  {
   "cell_type": "code",
   "execution_count": 1,
   "id": "eaef664d",
   "metadata": {},
   "outputs": [
    {
     "data": {
      "application/vnd.microsoft.datawrangler.viewer.v0+json": {
       "columns": [
        {
         "name": "index",
         "rawType": "int64",
         "type": "integer"
        },
        {
         "name": "ID",
         "rawType": "int64",
         "type": "integer"
        },
        {
         "name": "TITLE",
         "rawType": "object",
         "type": "string"
        },
        {
         "name": "GENRE",
         "rawType": "object",
         "type": "string"
        },
        {
         "name": "DESCRIPTION",
         "rawType": "object",
         "type": "string"
        }
       ],
       "ref": "619a8897-702b-47e4-a298-2881c876623c",
       "rows": [
        [
         "0",
         "1",
         "Oscar et la dame rose (2009)",
         "drama",
         "Listening in to a conversation between his doctor and parents, 10-year-old Oscar learns what nobody has the courage to tell him. He only has a few weeks to live. Furious, he refuses to speak to anyone except straight-talking Rose, the lady in pink he meets on the hospital stairs. As Christmas approaches, Rose uses her fantastical experiences as a professional wrestler, her imagination, wit and charm to allow Oscar to live life and love to the full, in the company of his friends Pop Corn, Einstein, Bacon and childhood sweetheart Peggy Blue."
        ],
        [
         "1",
         "2",
         "Cupid (1997)",
         "thriller",
         "A brother and sister with a past incestuous relationship have a current murderous relationship. He murders the women who reject him and she murders the women who get too close to him."
        ],
        [
         "2",
         "3",
         "Young, Wild and Wonderful (1980)",
         "adult",
         "As the bus empties the students for their field trip to the Museum of Natural History, little does the tour guide suspect that the students are there for more than just another tour. First, during the lecture films, the coeds drift into dreams of the most erotic fantasies one can imagine. After the films, they release the emotion of the fantasies in the most erotic and uncommon ways. One slips off to the curator's office for a little \"acquisition. \" Another finds the anthropologist to see what bones can be identified. Even the head teacher isn't immune. Soon the tour is over, but as the bus departs, everyone admits it was quite an education."
        ],
        [
         "3",
         "4",
         "The Secret Sin (1915)",
         "drama",
         "To help their unemployed father make ends meet, Edith and her twin sister Grace work as seamstresses . An invalid, Grace falls prey to the temptations of Chinatown opium and becomes an addict, a condition worsened by a misguided physician who prescribes morphine to ease her pain. When their father strikes oil, the family enjoys a new prosperity and the sisters meet the eligible Jack Herron, a fellow oil prospector. To Grace's shock, Jack falls in love with Edith and in her jealousy, Grace tells Jack that Edith, not she, has a drug problem. Hinting that her sister will soon need more morphine, Grace arranges for a dinner in Chinatown with the couple. While her sister and Jack dance, Grace slips away to an opium den. Edith follows her, but ends up in the wrong den and is arrested in an ensuing drug raid. After he bails her out of jail, Edith takes an angry Jack to search for Grace and stumbles across her half-conscious body lying in the street. The truth about the sisters is revealed, and after sending Grace to a sanitarium in the country, Jack and Edith are married."
        ],
        [
         "4",
         "5",
         "The Unrecovered (2007)",
         "drama",
         "The film's title refers not only to the un-recovered bodies at ground zero, but also to the state of the nation at large. Set in the hallucinatory period of time between September 11 and Halloween of 2001, The Unrecovered examines the effect of terror on the average mind, the way a state of heightened anxiety and/or alertness can cause the average person to make the sort of imaginative connections that are normally made only by artists and conspiracy theorists-both of whom figure prominently in this film. The Unrecovered explores the way in which irony, empathy, and paranoia relate to one another in the wake of 9/11."
        ]
       ],
       "shape": {
        "columns": 4,
        "rows": 5
       }
      },
      "text/html": [
       "<div>\n",
       "<style scoped>\n",
       "    .dataframe tbody tr th:only-of-type {\n",
       "        vertical-align: middle;\n",
       "    }\n",
       "\n",
       "    .dataframe tbody tr th {\n",
       "        vertical-align: top;\n",
       "    }\n",
       "\n",
       "    .dataframe thead th {\n",
       "        text-align: right;\n",
       "    }\n",
       "</style>\n",
       "<table border=\"1\" class=\"dataframe\">\n",
       "  <thead>\n",
       "    <tr style=\"text-align: right;\">\n",
       "      <th></th>\n",
       "      <th>ID</th>\n",
       "      <th>TITLE</th>\n",
       "      <th>GENRE</th>\n",
       "      <th>DESCRIPTION</th>\n",
       "    </tr>\n",
       "  </thead>\n",
       "  <tbody>\n",
       "    <tr>\n",
       "      <th>0</th>\n",
       "      <td>1</td>\n",
       "      <td>Oscar et la dame rose (2009)</td>\n",
       "      <td>drama</td>\n",
       "      <td>Listening in to a conversation between his doc...</td>\n",
       "    </tr>\n",
       "    <tr>\n",
       "      <th>1</th>\n",
       "      <td>2</td>\n",
       "      <td>Cupid (1997)</td>\n",
       "      <td>thriller</td>\n",
       "      <td>A brother and sister with a past incestuous re...</td>\n",
       "    </tr>\n",
       "    <tr>\n",
       "      <th>2</th>\n",
       "      <td>3</td>\n",
       "      <td>Young, Wild and Wonderful (1980)</td>\n",
       "      <td>adult</td>\n",
       "      <td>As the bus empties the students for their fiel...</td>\n",
       "    </tr>\n",
       "    <tr>\n",
       "      <th>3</th>\n",
       "      <td>4</td>\n",
       "      <td>The Secret Sin (1915)</td>\n",
       "      <td>drama</td>\n",
       "      <td>To help their unemployed father make ends meet...</td>\n",
       "    </tr>\n",
       "    <tr>\n",
       "      <th>4</th>\n",
       "      <td>5</td>\n",
       "      <td>The Unrecovered (2007)</td>\n",
       "      <td>drama</td>\n",
       "      <td>The film's title refers not only to the un-rec...</td>\n",
       "    </tr>\n",
       "  </tbody>\n",
       "</table>\n",
       "</div>"
      ],
      "text/plain": [
       "   ID                             TITLE     GENRE  \\\n",
       "0   1      Oscar et la dame rose (2009)     drama   \n",
       "1   2                      Cupid (1997)  thriller   \n",
       "2   3  Young, Wild and Wonderful (1980)     adult   \n",
       "3   4             The Secret Sin (1915)     drama   \n",
       "4   5            The Unrecovered (2007)     drama   \n",
       "\n",
       "                                         DESCRIPTION  \n",
       "0  Listening in to a conversation between his doc...  \n",
       "1  A brother and sister with a past incestuous re...  \n",
       "2  As the bus empties the students for their fiel...  \n",
       "3  To help their unemployed father make ends meet...  \n",
       "4  The film's title refers not only to the un-rec...  "
      ]
     },
     "execution_count": 1,
     "metadata": {},
     "output_type": "execute_result"
    }
   ],
   "source": [
    "import pandas as pd\n",
    "from sklearn.model_selection import train_test_split\n",
    "from sklearn.feature_extraction.text import TfidfVectorizer\n",
    "from sklearn.linear_model import LogisticRegression\n",
    "from sklearn.metrics import classification_report, accuracy_score\n",
    "\n",
    "# Load preprocessed data\n",
    "train_df = pd.read_csv('data/train_data_preprocessed.csv')\n",
    "train_df.head()"
   ]
  },
  {
   "cell_type": "markdown",
   "id": "27b0e9fb",
   "metadata": {},
   "source": [
    "## Combine Title and Description\n",
    "\n",
    "We combine the movie title and description into a single text feature for classification."
   ]
  },
  {
   "cell_type": "code",
   "execution_count": 2,
   "id": "31ec19d3",
   "metadata": {},
   "outputs": [
    {
     "data": {
      "text/plain": [
       "(0    Oscar et la dame rose (2009) Listening in to a...\n",
       " 1    Cupid (1997) A brother and sister with a past ...\n",
       " 2    Young, Wild and Wonderful (1980) As the bus em...\n",
       " Name: text, dtype: object,\n",
       " 0       drama\n",
       " 1    thriller\n",
       " 2       adult\n",
       " Name: GENRE, dtype: object)"
      ]
     },
     "execution_count": 2,
     "metadata": {},
     "output_type": "execute_result"
    }
   ],
   "source": [
    "# Combine TITLE and DESCRIPTION into a single text feature\n",
    "train_df['text'] = train_df['TITLE'].astype(str) + ' ' + train_df['DESCRIPTION'].astype(str)\n",
    "\n",
    "# Features and labels\n",
    "X = train_df['text']\n",
    "y = train_df['GENRE']\n",
    "\n",
    "X[:3], y[:3]  # Show sample combined text and sample labels"
   ]
  },
  {
   "cell_type": "markdown",
   "id": "69fa5262",
   "metadata": {},
   "source": [
    "## Train-Validation Split\n",
    "\n",
    "Split the data into training and validation sets to evaluate model performance."
   ]
  },
  {
   "cell_type": "code",
   "execution_count": 3,
   "id": "0a4e1ae6",
   "metadata": {},
   "outputs": [
    {
     "name": "stdout",
     "output_type": "stream",
     "text": [
      "Train samples: 43371, Validation samples: 10843\n"
     ]
    }
   ],
   "source": [
    "from sklearn.model_selection import train_test_split\n",
    "\n",
    "X_train, X_val, y_train, y_val = train_test_split(X, y, test_size=0.2, random_state=42, stratify=y)\n",
    "print(f\"Train samples: {len(X_train)}, Validation samples: {len(X_val)}\")"
   ]
  },
  {
   "cell_type": "markdown",
   "id": "8f053a5d",
   "metadata": {},
   "source": [
    "## Text Vectorization\n",
    "\n",
    "Convert the combined text into numerical features using TF-IDF."
   ]
  },
  {
   "cell_type": "code",
   "execution_count": 4,
   "id": "9b879276",
   "metadata": {},
   "outputs": [
    {
     "name": "stdout",
     "output_type": "stream",
     "text": [
      "TF-IDF feature shape: (43371, 5000)\n"
     ]
    }
   ],
   "source": [
    "vectorizer = TfidfVectorizer(max_features=5000)\n",
    "X_train_vec = vectorizer.fit_transform(X_train)\n",
    "X_val_vec = vectorizer.transform(X_val)\n",
    "\n",
    "print(f\"TF-IDF feature shape: {X_train_vec.shape}\")"
   ]
  },
  {
   "cell_type": "code",
   "execution_count": 6,
   "id": "7f5c1183",
   "metadata": {},
   "outputs": [
    {
     "name": "stdout",
     "output_type": "stream",
     "text": [
      "TF-IDF feature shape: (43371, 10000)\n"
     ]
    }
   ],
   "source": [
    "from sklearn.feature_extraction import text\n",
    "\n",
    "# Add stopwords and use n-grams\n",
    "stop_words = text.ENGLISH_STOP_WORDS\n",
    "vectorizer = TfidfVectorizer(max_features=10000, stop_words='english', ngram_range=(1,2))\n",
    "X_train_vec = vectorizer.fit_transform(X_train)\n",
    "X_val_vec = vectorizer.transform(X_val)\n",
    "\n",
    "print(f\"TF-IDF feature shape: {X_train_vec.shape}\")"
   ]
  },
  {
   "cell_type": "markdown",
   "id": "196653df",
   "metadata": {},
   "source": [
    "## Model Training\n",
    "\n",
    "Train a Logistic Regression classifier on the vectorized text features."
   ]
  },
  {
   "cell_type": "code",
   "execution_count": null,
   "id": "4dc7114e",
   "metadata": {},
   "outputs": [],
   "source": [
    "# 1. Address Class Imbalance with class_weight='balanced'\n",
    "clf = LogisticRegression(max_iter=200, class_weight='balanced')\n",
    "clf.fit(X_train_vec, y_train)"
   ]
  },
  {
   "cell_type": "markdown",
   "id": "8b41419e",
   "metadata": {},
   "source": [
    "## Hyperparameter Tuning with GridSearchCV\n",
    "\n",
    "Let's use GridSearchCV to find the best hyperparameters for the Logistic Regression model."
   ]
  },
  {
   "cell_type": "code",
   "execution_count": 7,
   "id": "4582006d",
   "metadata": {},
   "outputs": [
    {
     "name": "stdout",
     "output_type": "stream",
     "text": [
      "Fitting 3 folds for each of 16 candidates, totalling 48 fits\n",
      "[CV] END C=0.01, class_weight=balanced, max_iter=200, solver=liblinear; total time=   4.2s\n",
      "[CV] END C=0.01, class_weight=balanced, max_iter=200, solver=liblinear; total time=   4.6s\n",
      "[CV] END C=0.01, class_weight=balanced, max_iter=200, solver=lbfgs; total time=   0.9s\n",
      "[CV] END C=0.01, class_weight=balanced, max_iter=200, solver=lbfgs; total time=   0.8s\n",
      "[CV] END C=0.01, class_weight=balanced, max_iter=200, solver=liblinear; total time=   2.5s\n",
      "[CV] END C=0.01, class_weight=balanced, max_iter=200, solver=lbfgs; total time=   0.8s\n",
      "[CV] END C=0.01, class_weight=balanced, max_iter=500, solver=liblinear; total time=   3.6s\n",
      "[CV] END C=0.01, class_weight=balanced, max_iter=500, solver=liblinear; total time=   4.7s\n",
      "[CV] END C=0.01, class_weight=balanced, max_iter=500, solver=lbfgs; total time=   0.8s\n",
      "[CV] END C=0.01, class_weight=balanced, max_iter=500, solver=lbfgs; total time=   1.0s\n",
      "[CV] END C=0.01, class_weight=balanced, max_iter=500, solver=liblinear; total time=   3.6s\n",
      "[CV] END C=0.01, class_weight=balanced, max_iter=500, solver=lbfgs; total time=   0.9s\n",
      "[CV] END C=0.1, class_weight=balanced, max_iter=200, solver=liblinear; total time=   5.7s\n",
      "[CV] END C=0.1, class_weight=balanced, max_iter=200, solver=liblinear; total time=   7.0s\n",
      "[CV] END C=0.1, class_weight=balanced, max_iter=200, solver=lbfgs; total time=   3.2s\n",
      "[CV] END C=0.1, class_weight=balanced, max_iter=200, solver=liblinear; total time=   5.3s\n",
      "[CV] END C=0.1, class_weight=balanced, max_iter=200, solver=lbfgs; total time=   2.8s\n",
      "[CV] END C=0.1, class_weight=balanced, max_iter=200, solver=lbfgs; total time=   3.0s\n",
      "[CV] END C=0.1, class_weight=balanced, max_iter=500, solver=liblinear; total time=   6.7s\n",
      "[CV] END C=0.1, class_weight=balanced, max_iter=500, solver=liblinear; total time=   6.8s\n",
      "[CV] END C=0.1, class_weight=balanced, max_iter=500, solver=lbfgs; total time=   2.9s\n",
      "[CV] END C=0.1, class_weight=balanced, max_iter=500, solver=liblinear; total time=   4.2s\n",
      "[CV] END C=0.1, class_weight=balanced, max_iter=500, solver=lbfgs; total time=   2.7s\n",
      "[CV] END C=0.1, class_weight=balanced, max_iter=500, solver=lbfgs; total time=   3.0s\n",
      "[CV] END C=1, class_weight=balanced, max_iter=200, solver=liblinear; total time=   9.9s\n",
      "[CV] END C=1, class_weight=balanced, max_iter=200, solver=liblinear; total time=  10.0s\n",
      "[CV] END C=1, class_weight=balanced, max_iter=200, solver=liblinear; total time=   6.9s\n",
      "[CV] END C=1, class_weight=balanced, max_iter=200, solver=lbfgs; total time=   8.7s\n",
      "[CV] END C=1, class_weight=balanced, max_iter=200, solver=lbfgs; total time=   8.0s\n",
      "[CV] END C=1, class_weight=balanced, max_iter=200, solver=lbfgs; total time=   8.9s\n",
      "[CV] END C=1, class_weight=balanced, max_iter=500, solver=liblinear; total time=   8.1s\n",
      "[CV] END C=1, class_weight=balanced, max_iter=500, solver=liblinear; total time=   9.8s\n",
      "[CV] END C=1, class_weight=balanced, max_iter=500, solver=liblinear; total time=   8.9s\n",
      "[CV] END C=1, class_weight=balanced, max_iter=500, solver=lbfgs; total time=   8.3s\n",
      "[CV] END C=1, class_weight=balanced, max_iter=500, solver=lbfgs; total time=   8.6s\n",
      "[CV] END C=1, class_weight=balanced, max_iter=500, solver=lbfgs; total time=  10.4s\n",
      "[CV] END C=10, class_weight=balanced, max_iter=200, solver=liblinear; total time=  12.8s\n",
      "[CV] END C=10, class_weight=balanced, max_iter=200, solver=liblinear; total time=  17.2s\n",
      "[CV] END C=10, class_weight=balanced, max_iter=200, solver=liblinear; total time=  15.0s\n",
      "[CV] END C=10, class_weight=balanced, max_iter=200, solver=lbfgs; total time=  15.8s\n",
      "[CV] END C=10, class_weight=balanced, max_iter=200, solver=lbfgs; total time=  18.4s\n",
      "[CV] END C=10, class_weight=balanced, max_iter=500, solver=liblinear; total time=   9.7s\n",
      "[CV] END C=10, class_weight=balanced, max_iter=200, solver=lbfgs; total time=  21.7s\n",
      "[CV] END C=10, class_weight=balanced, max_iter=500, solver=liblinear; total time=  12.2s\n",
      "[CV] END C=10, class_weight=balanced, max_iter=500, solver=liblinear; total time=  11.7s\n",
      "[CV] END C=10, class_weight=balanced, max_iter=500, solver=lbfgs; total time=  16.0s\n",
      "[CV] END C=10, class_weight=balanced, max_iter=500, solver=lbfgs; total time=  18.3s\n",
      "[CV] END C=10, class_weight=balanced, max_iter=500, solver=lbfgs; total time=  14.9s\n",
      "Best parameters: {'C': 10, 'class_weight': 'balanced', 'max_iter': 200, 'solver': 'liblinear'}\n",
      "Best cross-validation score: 0.5615386506256866\n",
      "GridSearchCV Validation Accuracy: 0.5605459743613391\n",
      "              precision    recall  f1-score   support\n",
      "\n",
      "      action       0.35      0.48      0.40       263\n",
      "       adult       0.52      0.64      0.58       118\n",
      "   adventure       0.27      0.30      0.28       155\n",
      "   animation       0.23      0.26      0.24       100\n",
      "   biography       0.04      0.02      0.03        53\n",
      "      comedy       0.57      0.55      0.56      1490\n",
      "       crime       0.13      0.14      0.14       101\n",
      " documentary       0.76      0.75      0.75      2619\n",
      "       drama       0.66      0.56      0.61      2723\n",
      "      family       0.21      0.25      0.23       157\n",
      "     fantasy       0.14      0.14      0.14        65\n",
      "   game-show       0.81      0.64      0.71        39\n",
      "     history       0.18      0.14      0.16        49\n",
      "      horror       0.61      0.68      0.64       441\n",
      "       music       0.52      0.64      0.57       146\n",
      "     musical       0.21      0.18      0.20        55\n",
      "     mystery       0.15      0.16      0.15        64\n",
      "        news       0.28      0.19      0.23        36\n",
      "  reality-tv       0.33      0.45      0.38       177\n",
      "     romance       0.18      0.25      0.21       134\n",
      "      sci-fi       0.39      0.55      0.46       129\n",
      "       short       0.43      0.42      0.43      1015\n",
      "       sport       0.51      0.72      0.60        86\n",
      "   talk-show       0.35      0.40      0.37        78\n",
      "    thriller       0.25      0.32      0.28       318\n",
      "         war       0.32      0.31      0.31        26\n",
      "     western       0.81      0.85      0.83       206\n",
      "\n",
      "    accuracy                           0.56     10843\n",
      "   macro avg       0.38      0.41      0.39     10843\n",
      "weighted avg       0.57      0.56      0.56     10843\n",
      "\n"
     ]
    }
   ],
   "source": [
    "from sklearn.model_selection import GridSearchCV\n",
    "\n",
    "param_grid = {\n",
    "    'C': [0.01, 0.1, 1, 10],\n",
    "    'max_iter': [200, 500],\n",
    "    'class_weight': ['balanced'],\n",
    "    'solver': ['liblinear', 'lbfgs']\n",
    "}\n",
    "\n",
    "grid = GridSearchCV(LogisticRegression(), param_grid, cv=3, scoring='f1_weighted', n_jobs=-1, verbose=2)\n",
    "grid.fit(X_train_vec, y_train)\n",
    "\n",
    "print('Best parameters:', grid.best_params_)\n",
    "print('Best cross-validation score:', grid.best_score_)\n",
    "\n",
    "# Use the best estimator for evaluation\n",
    "grid_y_pred = grid.predict(X_val_vec)\n",
    "print('GridSearchCV Validation Accuracy:', accuracy_score(y_val, grid_y_pred))\n",
    "print(classification_report(y_val, grid_y_pred))"
   ]
  },
  {
   "cell_type": "markdown",
   "id": "0d66d1bc",
   "metadata": {},
   "source": [
    "## Model Evaluation\n",
    "\n",
    "Evaluate the model on the validation set and print metrics."
   ]
  },
  {
   "cell_type": "code",
   "execution_count": null,
   "id": "a4eba9c1",
   "metadata": {},
   "outputs": [],
   "source": [
    "y_pred = clf.predict(X_val_vec)\n",
    "print('Validation Accuracy:', accuracy_score(y_val, y_pred))\n",
    "print(classification_report(y_val, y_pred))"
   ]
  },
  {
   "cell_type": "markdown",
   "id": "9b991523",
   "metadata": {},
   "source": [
    "## Inference Function\n",
    "\n",
    "Define a function to predict the genre for new movie titles and descriptions."
   ]
  },
  {
   "cell_type": "code",
   "execution_count": 8,
   "id": "e228f186",
   "metadata": {},
   "outputs": [
    {
     "name": "stdout",
     "output_type": "stream",
     "text": [
      "Predicted genre: short\n",
      "Best model and vectorizer saved to model/ directory.\n",
      "Best model and vectorizer saved to model/ directory.\n"
     ]
    }
   ],
   "source": [
    "# Use the best estimator from GridSearchCV for inference and saving\n",
    "best_clf = grid.best_estimator_\n",
    "\n",
    "def predict_genre(title, description):\n",
    "    text = title + ' ' + description\n",
    "    vec = vectorizer.transform([text])\n",
    "    return best_clf.predict(vec)[0]\n",
    "\n",
    "# Example usage:\n",
    "genre = predict_genre('The Matrix', 'A computer hacker learns about the true nature of reality and his role in the war against its controllers.')\n",
    "print('Predicted genre:', genre)\n",
    "\n",
    "# Save the best model and vectorizer\n",
    "import os\n",
    "import joblib\n",
    "\n",
    "os.makedirs('model', exist_ok=True)\n",
    "joblib.dump(best_clf, 'model/genre_classifier.joblib')\n",
    "joblib.dump(vectorizer, 'model/vectorizer.joblib')\n",
    "print('Best model and vectorizer saved to model/ directory.')"
   ]
  },
  {
   "cell_type": "markdown",
   "id": "5de3425e",
   "metadata": {},
   "source": [
    "## Try a Different Model: Random Forest\n",
    "\n",
    "Let's also train a Random Forest classifier and compare its performance to Logistic Regression."
   ]
  },
  {
   "cell_type": "code",
   "execution_count": null,
   "id": "fe58623c",
   "metadata": {},
   "outputs": [],
   "source": [
    "from sklearn.ensemble import RandomForestClassifier\n",
    "\n",
    "rf_clf = RandomForestClassifier(n_estimators=100, class_weight='balanced', random_state=42, n_jobs=-1)\n",
    "rf_clf.fit(X_train_vec, y_train)\n",
    "\n",
    "rf_y_pred = rf_clf.predict(X_val_vec)\n",
    "print('Random Forest Validation Accuracy:', accuracy_score(y_val, rf_y_pred))\n",
    "print(classification_report(y_val, rf_y_pred))"
   ]
  }
 ],
 "metadata": {
  "kernelspec": {
   "display_name": "Python 3",
   "language": "python",
   "name": "python3"
  },
  "language_info": {
   "codemirror_mode": {
    "name": "ipython",
    "version": 3
   },
   "file_extension": ".py",
   "mimetype": "text/x-python",
   "name": "python",
   "nbconvert_exporter": "python",
   "pygments_lexer": "ipython3",
   "version": "3.12.1"
  }
 },
 "nbformat": 4,
 "nbformat_minor": 5
}
